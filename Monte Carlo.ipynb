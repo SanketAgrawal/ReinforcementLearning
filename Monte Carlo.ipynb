{
 "cells": [
  {
   "cell_type": "code",
   "execution_count": 1,
   "metadata": {
    "ExecuteTime": {
     "end_time": "2020-06-20T04:55:41.788560Z",
     "start_time": "2020-06-20T04:55:40.255490Z"
    }
   },
   "outputs": [],
   "source": [
    "import numpy as np\n",
    "import matplotlib.pyplot as plt"
   ]
  },
  {
   "cell_type": "code",
   "execution_count": 2,
   "metadata": {
    "ExecuteTime": {
     "end_time": "2020-06-20T04:55:42.069431Z",
     "start_time": "2020-06-20T04:55:42.063110Z"
    }
   },
   "outputs": [],
   "source": [
    "VERBOSE = True"
   ]
  },
  {
   "cell_type": "markdown",
   "metadata": {},
   "source": [
    "# Game of Blackjack"
   ]
  },
  {
   "cell_type": "raw",
   "metadata": {},
   "source": [
    "In this game we have made the following assumptions:\n",
    "    Ace will be equivalent to 1\n",
    "    Card 10 & face cards are numbered 10\n",
    "    States comprised of player sum only\n",
    "    The decision of taking an action is dependent of current sum of all the cards\n",
    "    discounting factor = 1"
   ]
  },
  {
   "cell_type": "code",
   "execution_count": 3,
   "metadata": {
    "ExecuteTime": {
     "end_time": "2020-06-20T04:55:43.685809Z",
     "start_time": "2020-06-20T04:55:43.609752Z"
    }
   },
   "outputs": [],
   "source": [
    "#Choose stick(1) or hit(0)\n",
    "def get_action(num_sum):\n",
    "    if num_sum > 21:\n",
    "        return 1\n",
    "    return np.random.binomial(1, num_sum/21, 1)[0]\n",
    "\n",
    "#Get a new card\n",
    "def get_card():\n",
    "    #Ace is considered as 1 & 10, J, Q, K are considerded as 10\n",
    "    p = np.array([0.077, 0.077,0.077,0.077,0.077,0.077,0.077,0.077,0.077,0.30])/np.sum([0.077, 0.077,0.077,0.077,0.077,0.077,0.077,0.077,0.077,0.30])\n",
    "    return np.random.choice([1,2,3,4,5,6,7,8,9,10],p= p)"
   ]
  },
  {
   "cell_type": "code",
   "execution_count": 4,
   "metadata": {
    "ExecuteTime": {
     "end_time": "2020-06-14T05:03:33.550813Z",
     "start_time": "2020-06-14T05:03:33.494173Z"
    }
   },
   "outputs": [],
   "source": [
    "# n: number of episodes\n",
    "# returns a list of lists of length n where each sub list is an episode \n",
    "def generate_episodes(n, verbose=False):\n",
    "    episodes = []\n",
    "    idx = 0\n",
    "    while idx<n:\n",
    "        idx+=1\n",
    "        dealer = [get_card()]\n",
    "        player = [0]\n",
    "        player_sum=0\n",
    "        dealer_sum=dealer[0]\n",
    "        \n",
    "        #Player is playing\n",
    "        action = get_action(player_sum)\n",
    "        player.append(action)\n",
    "        \n",
    "        while action!=1 and player_sum<=21:\n",
    "            player.append(0)\n",
    "            curr_card = get_card()\n",
    "            if verbose:\n",
    "                print(\"Player:\", \"Card choosen=\", curr_card)\n",
    "            player_sum+=curr_card\n",
    "            player.append(player_sum)\n",
    "            action = get_action(player_sum)\n",
    "            player.append(action)\n",
    "            \n",
    "        #Dealer is playing\n",
    "        action = get_action(dealer_sum)\n",
    "        dealer.append(action)\n",
    "        \n",
    "        if player_sum<=21:\n",
    "            while action!=1 and dealer_sum<=21:\n",
    "                dealer.append(0)\n",
    "                curr_card = get_card()\n",
    "                if verbose:\n",
    "                    print(\"Dealer:\", \"Card choosen=\", curr_card)\n",
    "                dealer_sum+=curr_card\n",
    "                dealer.append(dealer_sum)\n",
    "                action = get_action(dealer_sum)\n",
    "                dealer.append(action)\n",
    "        \n",
    "        if verbose:\n",
    "            print(\"Player Sum:\", player_sum, \"Dealer Sum:\", dealer_sum)\n",
    "        \n",
    "        if (player_sum<=21 and player_sum == dealer_sum):\n",
    "            player.append(0)\n",
    "            dealer.append(0)\n",
    "        elif (player_sum > dealer_sum and player_sum <= 21) or (player_sum <= 21 and dealer_sum > 21):\n",
    "            player.append(1)\n",
    "            dealer.append(-1)\n",
    "        else:\n",
    "            player.append(-1)\n",
    "            dealer.append(1)\n",
    "        \n",
    "        episodes.append(player)\n",
    "        episodes.append(dealer)\n",
    "    return episodes"
   ]
  },
  {
   "cell_type": "raw",
   "metadata": {},
   "source": [
    "# Sample data\n",
    "# Player: Card choosen= 7\n",
    "# Player: Card choosen= 6\n",
    "# Player: Card choosen= 10\n",
    "# Player Sum: 23 Dealer Sum: 10\n",
    "# Two episodes generated as below:\n",
    "# [[0, 0, 0, 7, 0, 0, 13, 0, 0, 23, 1, -1], [10, 1, 1]]"
   ]
  },
  {
   "cell_type": "code",
   "execution_count": 12,
   "metadata": {
    "ExecuteTime": {
     "end_time": "2020-06-14T05:09:50.181196Z",
     "start_time": "2020-06-14T05:09:48.698804Z"
    }
   },
   "outputs": [],
   "source": [
    "episodes = generate_episodes(5000)"
   ]
  },
  {
   "cell_type": "markdown",
   "metadata": {
    "ExecuteTime": {
     "end_time": "2020-06-13T20:00:20.423331Z",
     "start_time": "2020-06-13T20:00:20.390751Z"
    }
   },
   "source": [
    "### Monte Carlo"
   ]
  },
  {
   "cell_type": "code",
   "execution_count": 13,
   "metadata": {
    "ExecuteTime": {
     "end_time": "2020-06-14T05:09:56.866801Z",
     "start_time": "2020-06-14T05:09:54.290007Z"
    }
   },
   "outputs": [],
   "source": [
    "R = {}\n",
    "Q = np.zeros((52,2))\n",
    "Policy = [-1 for i in range(52)]\n",
    "\n",
    "for episode in episodes:\n",
    "    states = []\n",
    "    for i in range(0, len(episode),3):\n",
    "        state = episode[i]\n",
    "        action = episode[i+1]\n",
    "        reward = episode[i+2]\n",
    "        \n",
    "        states.append(state)\n",
    "        \n",
    "        R[(state,action)] = R.get((state,action),[])\n",
    "        R[(state,action)].append(episode[-1])\n",
    "        Q[state][action] = np.mean(R[(state,action)])\n",
    "        \n",
    "    #Policy Control\n",
    "    for state in states:\n",
    "        Policy[state] = np.argmax(Q[state])"
   ]
  },
  {
   "cell_type": "code",
   "execution_count": 14,
   "metadata": {
    "ExecuteTime": {
     "end_time": "2020-06-14T05:09:57.151296Z",
     "start_time": "2020-06-14T05:09:56.973607Z"
    }
   },
   "outputs": [
    {
     "data": {
      "text/plain": [
       "[<matplotlib.lines.Line2D at 0x7f9756432dd0>]"
      ]
     },
     "execution_count": 14,
     "metadata": {},
     "output_type": "execute_result"
    },
    {
     "data": {
      "image/png": "[encoded data removed]",
      "text/plain": [
       "<Figure size 432x288 with 1 Axes>"
      ]
     },
     "metadata": {
      "needs_background": "light"
     },
     "output_type": "display_data"
    }
   ],
   "source": [
    "plt.plot(Policy)"
   ]
  },
  {
   "cell_type": "code",
   "execution_count": 16,
   "metadata": {
    "ExecuteTime": {
     "end_time": "2020-06-14T05:10:33.172810Z",
     "start_time": "2020-06-14T05:10:33.144371Z"
    }
   },
   "outputs": [
    {
     "data": {
      "text/plain": [
       "array([[ 0.0024    ,  0.        ],\n",
       "       [ 0.02455662, -1.        ],\n",
       "       [ 0.06507304, -0.73333333],\n",
       "       [ 0.03862069, -0.9       ],\n",
       "       [ 0.06842105, -0.80434783],\n",
       "       [ 0.08310249, -0.73221757],\n",
       "       [ 0.15365239, -0.72631579],\n",
       "       [ 0.18396846, -0.63428571],\n",
       "       [ 0.2356091 , -0.55868545],\n",
       "       [ 0.34557823, -0.44043321],\n",
       "       [ 0.44871795, -0.20145631],\n",
       "       [ 0.52061856, -0.07542579],\n",
       "       [-0.04012346,  0.05263158],\n",
       "       [-0.09854015,  0.15904139],\n",
       "       [-0.08130081,  0.21363636],\n",
       "       [-0.30493274,  0.2687747 ],\n",
       "       [-0.43209877,  0.49083503],\n",
       "       [-0.51260504,  0.50943396],\n",
       "       [-0.63333333,  0.62195122],\n",
       "       [-0.90243902,  0.79281184],\n",
       "       [-0.68      ,  0.88536953],\n",
       "       [ 0.        ,  0.94570136]])"
      ]
     },
     "execution_count": 16,
     "metadata": {},
     "output_type": "execute_result"
    }
   ],
   "source": [
    "Q[:22]"
   ]
  },
  {
   "cell_type": "code",
   "execution_count": 22,
   "metadata": {
    "ExecuteTime": {
     "end_time": "2020-06-14T05:15:32.622792Z",
     "start_time": "2020-06-14T05:15:32.588600Z"
    }
   },
   "outputs": [
    {
     "name": "stdout",
     "output_type": "stream",
     "text": [
      "(0, 0) 0.0024\n",
      "(10, 0) 0.44871794871794873\n",
      "(10, 1) -0.20145631067961164\n",
      "(11, 0) 0.520618556701031\n",
      "(11, 1) -0.07542579075425791\n",
      "(12, 0) -0.040123456790123455\n",
      "(12, 1) 0.05263157894736842\n",
      "(13, 0) -0.09854014598540146\n",
      "(13, 1) 0.15904139433551198\n",
      "(14, 0) -0.08130081300813008\n",
      "(14, 1) 0.21363636363636362\n",
      "(15, 0) -0.30493273542600896\n",
      "(15, 1) 0.26877470355731226\n",
      "(16, 0) -0.43209876543209874\n",
      "(16, 1) 0.4908350305498982\n",
      "(17, 0) -0.5126050420168067\n",
      "(17, 1) 0.5094339622641509\n",
      "(18, 0) -0.6333333333333333\n",
      "(18, 1) 0.6219512195121951\n",
      "(19, 0) -0.9024390243902439\n",
      "(19, 1) 0.7928118393234672\n",
      "(1, 0) 0.02455661664392906\n",
      "(1, 1) -1.0\n",
      "(20, 0) -0.68\n",
      "(20, 1) 0.8853695324283559\n",
      "(21, 1) 0.9457013574660633\n",
      "(22, 1) -1.0\n",
      "(23, 1) -1.0\n",
      "(24, 1) -1.0\n",
      "(25, 1) -1.0\n",
      "(26, 1) -1.0\n",
      "(27, 1) -1.0\n",
      "(28, 1) -1.0\n",
      "(29, 1) -1.0\n",
      "(2, 0) 0.0650730411686587\n",
      "(2, 1) -0.7333333333333333\n",
      "(30, 1) -1.0\n",
      "(3, 0) 0.038620689655172416\n",
      "(3, 1) -0.9\n",
      "(4, 0) 0.06842105263157895\n",
      "(4, 1) -0.8043478260869565\n",
      "(5, 0) 0.08310249307479224\n",
      "(5, 1) -0.7322175732217573\n",
      "(6, 0) 0.15365239294710328\n",
      "(6, 1) -0.7263157894736842\n",
      "(7, 0) 0.18396846254927726\n",
      "(7, 1) -0.6342857142857142\n",
      "(8, 0) 0.23560910307898258\n",
      "(8, 1) -0.5586854460093896\n",
      "(9, 0) 0.345578231292517\n",
      "(9, 1) -0.4404332129963899\n"
     ]
    }
   ],
   "source": [
    "for key in sorted(R.keys(),key=lambda x:str(x[0])+'_'+str(x[1])):\n",
    "    print(key, np.mean(R[key]))"
   ]
  },
  {
   "cell_type": "markdown",
   "metadata": {},
   "source": [
    "## Exploring Starts"
   ]
  },
  {
   "cell_type": "code",
   "execution_count": 73,
   "metadata": {
    "ExecuteTime": {
     "end_time": "2020-06-14T08:26:08.628291Z",
     "start_time": "2020-06-14T08:26:08.611879Z"
    }
   },
   "outputs": [],
   "source": [
    "verbose = 0"
   ]
  },
  {
   "cell_type": "code",
   "execution_count": 74,
   "metadata": {
    "ExecuteTime": {
     "end_time": "2020-06-14T08:26:10.073502Z",
     "start_time": "2020-06-14T08:26:10.023738Z"
    }
   },
   "outputs": [],
   "source": [
    "def get_action(num_sum, Q):\n",
    "    return np.argmax(Q[num_sum])\n",
    "\n",
    "def get_dealer_action(num_sum):\n",
    "    if num_sum > 21:\n",
    "        return 1\n",
    "    return np.random.binomial(1, num_sum/21, 1)[0]\n",
    "\n",
    "def get_reward(player_sum, action):\n",
    "    if action==0:\n",
    "        return 0\n",
    "    else:\n",
    "        dealer_sum = 0\n",
    "        action = get_dealer_action(dealer_sum)\n",
    "        while action!=1 and dealer_sum<=21:\n",
    "            curr_card = get_card()\n",
    "            if verbose:\n",
    "                print(\"Dealer:\", \"Card choosen=\", curr_card)\n",
    "            dealer_sum+=curr_card\n",
    "            action = get_dealer_action(dealer_sum)\n",
    "        \n",
    "        if (player_sum<=21 and player_sum == dealer_sum):\n",
    "            return 0\n",
    "        elif (player_sum > dealer_sum and player_sum <= 21) or (player_sum <= 21 and dealer_sum > 21):\n",
    "            return 1\n",
    "        else:\n",
    "            return -1"
   ]
  },
  {
   "cell_type": "code",
   "execution_count": 82,
   "metadata": {
    "ExecuteTime": {
     "end_time": "2020-06-14T08:29:49.568945Z",
     "start_time": "2020-06-14T08:29:38.981180Z"
    }
   },
   "outputs": [],
   "source": [
    "R = {}\n",
    "Q = np.zeros((52,2))\n",
    "Policy = [-1 for i in range(52)]\n",
    "\n",
    "for epoch in range(10000):\n",
    "    states = []\n",
    "    player_sum = 0\n",
    "    action = 0\n",
    "    reward = 0\n",
    "    states.append((player_sum, action))\n",
    "    while action != 1 and player_sum <= 21:\n",
    "        curr_card = get_card()\n",
    "        player_sum += curr_card\n",
    "        action = get_action(player_sum, Q)\n",
    "        reward = get_reward(player_sum, action)\n",
    "        states.append((player_sum, action))\n",
    "        if verbose:\n",
    "            print(player_sum, action, reward)\n",
    "    reward = get_reward(player_sum, 1)\n",
    "    if verbose:\n",
    "        print(\"Final reward:\", reward)\n",
    "    \n",
    "    for s, a in states:\n",
    "        R[(s,a)] = R.get((s,a),[])\n",
    "        R[(s,a)].append(reward)\n",
    "        Q[s][a] = np.mean(R[(s,a)])\n",
    "        \n",
    "    #Policy Control\n",
    "    for state, a in states:\n",
    "        Policy[state] = np.argmax(Q[state])"
   ]
  },
  {
   "cell_type": "code",
   "execution_count": 83,
   "metadata": {
    "ExecuteTime": {
     "end_time": "2020-06-14T08:29:49.886362Z",
     "start_time": "2020-06-14T08:29:49.670478Z"
    }
   },
   "outputs": [
    {
     "data": {
      "text/plain": [
       "[<matplotlib.lines.Line2D at 0x7f9755c6f410>]"
      ]
     },
     "execution_count": 83,
     "metadata": {},
     "output_type": "execute_result"
    },
    {
     "data": {
      "image/png": "[encoded data removed]",
      "text/plain": [
       "<Figure size 432x288 with 1 Axes>"
      ]
     },
     "metadata": {
      "needs_background": "light"
     },
     "output_type": "display_data"
    }
   ],
   "source": [
    "plt.plot(Policy)"
   ]
  },
  {
   "cell_type": "code",
   "execution_count": 84,
   "metadata": {
    "ExecuteTime": {
     "end_time": "2020-06-14T08:29:50.015481Z",
     "start_time": "2020-06-14T08:29:49.985339Z"
    }
   },
   "outputs": [
    {
     "name": "stdout",
     "output_type": "stream",
     "text": [
      "(0, 0) 0.3892\n",
      "(1, 0) -1.0\n",
      "(10, 0) 0.5671722643553629\n",
      "(11, 0) 0.5768398268398268\n",
      "(12, 0) -1.0\n",
      "(13, 0) -1.0\n",
      "(14, 0) -1.0\n",
      "(15, 0) -1.0\n",
      "(16, 0) -1.0\n",
      "(17, 0) -1.0\n",
      "(18, 0) -1.0\n",
      "(19, 0) -1.0\n",
      "(2, 0) 0.3797634691195795\n",
      "(20, 0) -1.0\n",
      "(21, 0) -1.0\n",
      "(22, 0) -1.0\n",
      "(23, 0) -1.0\n",
      "(24, 0) -1.0\n",
      "(26, 0) -1.0\n",
      "(3, 0) 0.4148148148148148\n",
      "(4, 0) 0.4134929270946681\n",
      "(5, 0) 0.4118895966029724\n",
      "(6, 0) 0.44291338582677164\n",
      "(7, 0) 0.5143603133159269\n",
      "(8, 0) 0.4964143426294821\n",
      "(9, 0) 0.5752688172043011\n",
      "(1, 1) -0.8736842105263158\n",
      "(10, 1) -1.0\n",
      "(11, 1) -1.0\n",
      "(12, 1) 0.15674255691768826\n",
      "(13, 1) 0.16905187835420393\n",
      "(14, 1) 0.2857142857142857\n",
      "(15, 1) 0.41876892028254287\n",
      "(16, 1) 0.4617737003058104\n",
      "(17, 1) 0.6168539325842697\n",
      "(18, 1) 0.6640449438202247\n",
      "(19, 1) 0.8170894526034713\n",
      "(2, 1) -1.0\n",
      "(20, 1) 0.8893690579083837\n",
      "(21, 1) 0.9885057471264368\n",
      "(22, 1) -1.0\n",
      "(23, 1) -1.0\n",
      "(26, 1) -1.0\n",
      "(3, 1) -1.0\n",
      "(4, 1) -1.0\n",
      "(6, 1) -1.0\n",
      "(7, 1) -0.5\n",
      "(8, 1) -1.0\n",
      "(9, 1) -1.0\n"
     ]
    }
   ],
   "source": [
    "for key in sorted(R.keys(),key=lambda x:str(x[1])+'_'+str(x[0])):\n",
    "    print(key, np.mean(R[key]))"
   ]
  },
  {
   "cell_type": "code",
   "execution_count": 85,
   "metadata": {
    "ExecuteTime": {
     "end_time": "2020-06-14T08:29:50.223815Z",
     "start_time": "2020-06-14T08:29:50.118565Z"
    }
   },
   "outputs": [
    {
     "data": {
      "text/plain": [
       "array([[ 0.3892    ,  0.        ],\n",
       "       [-1.        , -0.87368421],\n",
       "       [ 0.37976347, -1.        ],\n",
       "       [ 0.41481481, -1.        ],\n",
       "       [ 0.41349293, -1.        ],\n",
       "       [ 0.4118896 ,  0.        ],\n",
       "       [ 0.44291339, -1.        ],\n",
       "       [ 0.51436031, -0.5       ],\n",
       "       [ 0.49641434, -1.        ],\n",
       "       [ 0.57526882, -1.        ],\n",
       "       [ 0.56717226, -1.        ],\n",
       "       [ 0.57683983, -1.        ],\n",
       "       [-1.        ,  0.15674256],\n",
       "       [-1.        ,  0.16905188],\n",
       "       [-1.        ,  0.28571429],\n",
       "       [-1.        ,  0.41876892],\n",
       "       [-1.        ,  0.4617737 ],\n",
       "       [-1.        ,  0.61685393],\n",
       "       [-1.        ,  0.66404494],\n",
       "       [-1.        ,  0.81708945],\n",
       "       [-1.        ,  0.88936906],\n",
       "       [-1.        ,  0.98850575]])"
      ]
     },
     "execution_count": 85,
     "metadata": {},
     "output_type": "execute_result"
    }
   ],
   "source": [
    "Q[:22]"
   ]
  },
  {
   "cell_type": "markdown",
   "metadata": {},
   "source": [
    "### Epsilon soft policy"
   ]
  },
  {
   "cell_type": "code",
   "execution_count": 88,
   "metadata": {
    "ExecuteTime": {
     "end_time": "2020-06-14T08:40:24.991878Z",
     "start_time": "2020-06-14T08:40:24.985805Z"
    }
   },
   "outputs": [],
   "source": [
    "verbose = 0\n",
    "e = 0.1"
   ]
  },
  {
   "cell_type": "code",
   "execution_count": 91,
   "metadata": {
    "ExecuteTime": {
     "end_time": "2020-06-14T08:40:56.307350Z",
     "start_time": "2020-06-14T08:40:56.296231Z"
    }
   },
   "outputs": [],
   "source": [
    "def get_action(num_sum, Q):\n",
    "    return np.random.choice([0,1], p = np.array(Q[num_sum])/np.sum(Q[num_sum]))"
   ]
  },
  {
   "cell_type": "code",
   "execution_count": 101,
   "metadata": {
    "ExecuteTime": {
     "end_time": "2020-06-14T08:50:05.427527Z",
     "start_time": "2020-06-14T08:47:39.391218Z"
    }
   },
   "outputs": [],
   "source": [
    "R = {}\n",
    "Q = np.zeros((52,2))\n",
    "Policy = np.zeros((52,2)) + 0.5\n",
    "\n",
    "for epoch in range(50000):\n",
    "    states = []\n",
    "    player_sum = 0\n",
    "    action = 0\n",
    "    reward = 0\n",
    "    states.append((player_sum, action))\n",
    "    while action != 1 and player_sum <= 21:\n",
    "        curr_card = get_card()\n",
    "        player_sum += curr_card\n",
    "        action = get_action(player_sum, Policy)\n",
    "        reward = get_reward(player_sum, action)\n",
    "        states.append((player_sum, action))\n",
    "        if verbose:\n",
    "            print(player_sum, action, reward)\n",
    "    reward = get_reward(player_sum, 1)\n",
    "    if verbose:\n",
    "        print(\"Final reward:\", reward)\n",
    "    \n",
    "    for s, a in states:\n",
    "        R[(s,a)] = R.get((s,a),[])\n",
    "        R[(s,a)].append(reward)\n",
    "        Q[s][a] = np.mean(R[(s,a)])\n",
    "        \n",
    "    #Policy Control\n",
    "    for state, a in states:\n",
    "        Policy[state][a] = 1 - e - e/2\n",
    "        Policy[state][1-a] = e/2"
   ]
  },
  {
   "cell_type": "code",
   "execution_count": 102,
   "metadata": {
    "ExecuteTime": {
     "end_time": "2020-06-14T08:50:05.813586Z",
     "start_time": "2020-06-14T08:50:05.553688Z"
    }
   },
   "outputs": [
    {
     "data": {
      "text/plain": [
       "[<matplotlib.lines.Line2D at 0x7f975501fdd0>]"
      ]
     },
     "execution_count": 102,
     "metadata": {},
     "output_type": "execute_result"
    },
    {
     "data": {
      "image/png": "[encoded data removed]",
      "text/plain": [
       "<Figure size 432x288 with 1 Axes>"
      ]
     },
     "metadata": {
      "needs_background": "light"
     },
     "output_type": "display_data"
    }
   ],
   "source": [
    "plt.plot(Policy.T[0])"
   ]
  },
  {
   "cell_type": "code",
   "execution_count": 103,
   "metadata": {
    "ExecuteTime": {
     "end_time": "2020-06-14T08:50:06.033297Z",
     "start_time": "2020-06-14T08:50:05.993853Z"
    }
   },
   "outputs": [
    {
     "name": "stdout",
     "output_type": "stream",
     "text": [
      "(0, 0) -0.33956\n",
      "(1, 0) -0.26648599819331525\n",
      "(10, 0) -0.0042053184910327765\n",
      "(11, 0) -0.085219707057257\n",
      "(12, 0) -0.3651026392961877\n",
      "(13, 0) -0.4304635761589404\n",
      "(14, 0) -0.51699604743083\n",
      "(15, 0) -0.557427258805513\n",
      "(16, 0) -0.6559485530546624\n",
      "(17, 0) -0.7350993377483444\n",
      "(18, 0) -0.7781484570475397\n",
      "(19, 0) -0.8447528187337381\n",
      "(2, 0) -0.23136872868972236\n",
      "(20, 0) -0.9293439077144917\n",
      "(21, 0) -1.0\n",
      "(22, 0) -1.0\n",
      "(23, 0) -1.0\n",
      "(24, 0) -1.0\n",
      "(25, 0) -1.0\n",
      "(26, 0) -1.0\n",
      "(27, 0) -1.0\n",
      "(28, 0) -1.0\n",
      "(29, 0) -1.0\n",
      "(3, 0) -0.2468677494199536\n",
      "(30, 0) -1.0\n",
      "(31, 0) -1.0\n",
      "(4, 0) -0.23083439220669208\n",
      "(5, 0) -0.20336669699727025\n",
      "(6, 0) -0.1267361111111111\n",
      "(7, 0) -0.12472647702407003\n",
      "(8, 0) -0.11688311688311688\n",
      "(9, 0) -0.07501847745750184\n",
      "(1, 1) -0.8517846339987901\n",
      "(10, 1) -0.22021660649819494\n",
      "(11, 1) 0.031426269137792104\n",
      "(12, 1) 0.10242792109256449\n",
      "(13, 1) 0.196513470681458\n",
      "(14, 1) 0.2798165137614679\n",
      "(15, 1) 0.3487261146496815\n",
      "(16, 1) 0.4748427672955975\n",
      "(17, 1) 0.6005612722170253\n",
      "(18, 1) 0.6715517241379311\n",
      "(19, 1) 0.7770814682184423\n",
      "(2, 1) -0.8465767116441779\n",
      "(20, 1) 0.8772845953002611\n",
      "(21, 1) 0.9791666666666666\n",
      "(22, 1) -1.0\n",
      "(23, 1) -1.0\n",
      "(24, 1) -1.0\n",
      "(25, 1) -1.0\n",
      "(26, 1) -1.0\n",
      "(27, 1) -1.0\n",
      "(28, 1) -1.0\n",
      "(29, 1) -1.0\n",
      "(3, 1) -0.7867252318204002\n",
      "(30, 1) -1.0\n",
      "(31, 1) -1.0\n",
      "(4, 1) -0.781099324975892\n",
      "(5, 1) -0.7351190476190477\n",
      "(6, 1) -0.7051905920519059\n",
      "(7, 1) -0.5949416342412451\n",
      "(8, 1) -0.5384615384615384\n",
      "(9, 1) -0.44470224284609433\n"
     ]
    }
   ],
   "source": [
    "for key in sorted(R.keys(),key=lambda x:str(x[1])+'_'+str(x[0])):\n",
    "    print(key, np.mean(R[key]))"
   ]
  },
  {
   "cell_type": "markdown",
   "metadata": {},
   "source": [
    "### Off Policy"
   ]
  },
  {
   "cell_type": "code",
   "execution_count": 23,
   "metadata": {
    "ExecuteTime": {
     "end_time": "2020-06-20T05:51:08.371539Z",
     "start_time": "2020-06-20T05:51:08.361649Z"
    }
   },
   "outputs": [],
   "source": [
    "verbose = 0\n",
    "gamma = 0.1"
   ]
  },
  {
   "cell_type": "code",
   "execution_count": 24,
   "metadata": {
    "ExecuteTime": {
     "end_time": "2020-06-20T05:51:09.410479Z",
     "start_time": "2020-06-20T05:51:09.385436Z"
    }
   },
   "outputs": [],
   "source": [
    "#Choose stick(1) or hit(0)\n",
    "def get_action(num_sum):\n",
    "    if num_sum > 21:\n",
    "        return 1\n",
    "    return np.random.binomial(1, num_sum/21, 1)[0]\n",
    "\n",
    "#Get a new card\n",
    "def get_card():\n",
    "    #Ace is considered as 1 & 10, J, Q, K are considerded as 10\n",
    "    p = np.array([0.077, 0.077,0.077,0.077,0.077,0.077,0.077,0.077,0.077,0.30])/np.sum([0.077, 0.077,0.077,0.077,0.077,0.077,0.077,0.077,0.077,0.30])\n",
    "    return np.random.choice([1,2,3,4,5,6,7,8,9,10],p= p)"
   ]
  },
  {
   "cell_type": "code",
   "execution_count": 25,
   "metadata": {
    "ExecuteTime": {
     "end_time": "2020-06-20T05:51:10.126538Z",
     "start_time": "2020-06-20T05:51:10.076525Z"
    }
   },
   "outputs": [],
   "source": [
    "# n: number of episodes\n",
    "# returns a list of lists of length n where each sub list is an episode \n",
    "def generate_episodes(n, verbose=False):\n",
    "    episodes = []\n",
    "    idx = 0\n",
    "    while idx<n:\n",
    "        idx+=1\n",
    "        dealer = [get_card()]\n",
    "        player = [0]\n",
    "        player_sum=0\n",
    "        dealer_sum=dealer[0]\n",
    "        \n",
    "        #Player is playing\n",
    "        action = get_action(player_sum)\n",
    "        player.append(action)\n",
    "        \n",
    "        while action!=1 and player_sum<=21:\n",
    "            player.append(0)\n",
    "            curr_card = get_card()\n",
    "            if verbose:\n",
    "                print(\"Player:\", \"Card choosen=\", curr_card)\n",
    "            player_sum+=curr_card\n",
    "            player.append(player_sum)\n",
    "            action = get_action(player_sum)\n",
    "            player.append(action)\n",
    "            \n",
    "        #Dealer is playing\n",
    "        action = get_action(dealer_sum)\n",
    "        dealer.append(action)\n",
    "        \n",
    "        if player_sum<=21:\n",
    "            while action!=1 and dealer_sum<=21:\n",
    "                dealer.append(0)\n",
    "                curr_card = get_card()\n",
    "                if verbose:\n",
    "                    print(\"Dealer:\", \"Card choosen=\", curr_card)\n",
    "                dealer_sum+=curr_card\n",
    "                dealer.append(dealer_sum)\n",
    "                action = get_action(dealer_sum)\n",
    "                dealer.append(action)\n",
    "        \n",
    "        if verbose:\n",
    "            print(\"Player Sum:\", player_sum, \"Dealer Sum:\", dealer_sum)\n",
    "        \n",
    "        if (player_sum<=21 and player_sum == dealer_sum):\n",
    "            player.append(0)\n",
    "            dealer.append(0)\n",
    "        elif (player_sum > dealer_sum and player_sum <= 21) or (player_sum <= 21 and dealer_sum > 21):\n",
    "            player.append(1)\n",
    "            dealer.append(-1)\n",
    "        else:\n",
    "            player.append(-1)\n",
    "            dealer.append(1)\n",
    "        \n",
    "        episodes.append(player)\n",
    "        episodes.append(dealer)\n",
    "    return episodes"
   ]
  },
  {
   "cell_type": "code",
   "execution_count": 26,
   "metadata": {
    "ExecuteTime": {
     "end_time": "2020-06-20T05:51:27.879898Z",
     "start_time": "2020-06-20T05:51:10.979867Z"
    }
   },
   "outputs": [],
   "source": [
    "Q = np.zeros((52,2))\n",
    "C = np.zeros((52,2))\n",
    "Policy = np.zeros(52)\n",
    "\n",
    "for epoch in range(50000):\n",
    "    episodes = generate_episodes(1)\n",
    "    for episode in episodes:\n",
    "        reward = 0\n",
    "        W = 1\n",
    "        for i in range(len(episode)-1,-1,-3):\n",
    "            reward = gamma * reward + episode[i]\n",
    "            C[episode[i-2]][episode[i-1]] += W\n",
    "            Q[episode[i-2]][episode[i-1]] = Q[episode[i-2]][episode[i-1]] + (W/C[episode[i-2]][episode[i-1]]) * (reward - Q[episode[i-2]][episode[i-1]])\n",
    "            Policy[episode[i-2]] = np.argmax(Q[episode[i-2]])\n",
    "            if Policy[episode[i-2]] != episode[i-1]:\n",
    "                break\n",
    "            if episode[i-1]:\n",
    "                W = (W * 21) / episode[i-2]\n",
    "            else:\n",
    "                W = (W * 21) / (21-episode[i-2])"
   ]
  },
  {
   "cell_type": "code",
   "execution_count": 28,
   "metadata": {
    "ExecuteTime": {
     "end_time": "2020-06-20T05:51:51.780483Z",
     "start_time": "2020-06-20T05:51:51.527560Z"
    }
   },
   "outputs": [
    {
     "data": {
      "text/plain": [
       "[<matplotlib.lines.Line2D at 0x7f95b205fb10>]"
      ]
     },
     "execution_count": 28,
     "metadata": {},
     "output_type": "execute_result"
    },
    {
     "data": {
      "image/png": "[encoded data removed]",
      "text/plain": [
       "<Figure size 432x288 with 1 Axes>"
      ]
     },
     "metadata": {
      "needs_background": "light"
     },
     "output_type": "display_data"
    }
   ],
   "source": [
    "plt.plot(Policy)"
   ]
  },
  {
   "cell_type": "code",
   "execution_count": 30,
   "metadata": {
    "ExecuteTime": {
     "end_time": "2020-06-20T05:53:06.394216Z",
     "start_time": "2020-06-20T05:53:06.352414Z"
    }
   },
   "outputs": [
    {
     "data": {
      "text/plain": [
       "array([[ 0.00302065,  0.        ],\n",
       "       [ 0.04196531, -0.88795518],\n",
       "       [ 0.03722347, -0.84      ],\n",
       "       [ 0.03874724, -0.84577922],\n",
       "       [ 0.04233268, -0.79065841],\n",
       "       [ 0.04478004, -0.78535354],\n",
       "       [ 0.0488806 , -0.70618034],\n",
       "       [ 0.05551691, -0.66290323],\n",
       "       [ 0.05956472, -0.54969217],\n",
       "       [ 0.06560756, -0.44885818],\n",
       "       [ 0.08604558, -0.21417183],\n",
       "       [ 0.0616409 , -0.05142579],\n",
       "       [ 0.05487715,  0.06950922],\n",
       "       [ 0.06201545,  0.13469034],\n",
       "       [ 0.06538065,  0.24390244],\n",
       "       [ 0.07036879,  0.365294  ],\n",
       "       [ 0.08073972,  0.45413129],\n",
       "       [ 0.07903468,  0.55145228],\n",
       "       [ 0.0908363 ,  0.67411586],\n",
       "       [ 0.08787436,  0.76188279],\n",
       "       [ 0.1       ,  0.87373972],\n",
       "       [ 0.        ,  0.97785349],\n",
       "       [ 0.        , -1.        ],\n",
       "       [ 0.        , -1.        ],\n",
       "       [ 0.        , -1.        ],\n",
       "       [ 0.        , -1.        ],\n",
       "       [ 0.        , -1.        ],\n",
       "       [ 0.        , -1.        ],\n",
       "       [ 0.        , -1.        ],\n",
       "       [ 0.        , -1.        ],\n",
       "       [ 0.        , -1.        ],\n",
       "       [ 0.        ,  0.        ],\n",
       "       [ 0.        ,  0.        ],\n",
       "       [ 0.        ,  0.        ],\n",
       "       [ 0.        ,  0.        ],\n",
       "       [ 0.        ,  0.        ],\n",
       "       [ 0.        ,  0.        ],\n",
       "       [ 0.        ,  0.        ],\n",
       "       [ 0.        ,  0.        ],\n",
       "       [ 0.        ,  0.        ],\n",
       "       [ 0.        ,  0.        ],\n",
       "       [ 0.        ,  0.        ],\n",
       "       [ 0.        ,  0.        ],\n",
       "       [ 0.        ,  0.        ],\n",
       "       [ 0.        ,  0.        ],\n",
       "       [ 0.        ,  0.        ],\n",
       "       [ 0.        ,  0.        ],\n",
       "       [ 0.        ,  0.        ],\n",
       "       [ 0.        ,  0.        ],\n",
       "       [ 0.        ,  0.        ],\n",
       "       [ 0.        ,  0.        ],\n",
       "       [ 0.        ,  0.        ]])"
      ]
     },
     "execution_count": 30,
     "metadata": {},
     "output_type": "execute_result"
    }
   ],
   "source": [
    "Q"
   ]
  }
 ],
 "metadata": {
  "kernelspec": {
   "display_name": "Python 3",
   "language": "python",
   "name": "python3"
  },
  "language_info": {
   "codemirror_mode": {
    "name": "ipython",
    "version": 3
   },
   "file_extension": ".py",
   "mimetype": "text/x-python",
   "name": "python",
   "nbconvert_exporter": "python",
   "pygments_lexer": "ipython3",
   "version": "3.7.7"
  },
  "varInspector": {
   "cols": {
    "lenName": 16,
    "lenType": 16,
    "lenVar": 40
   },
   "kernels_config": {
    "python": {
     "delete_cmd_postfix": "",
     "delete_cmd_prefix": "del ",
     "library": "var_list.py",
     "varRefreshCmd": "print(var_dic_list())"
    },
    "r": {
     "delete_cmd_postfix": ") ",
     "delete_cmd_prefix": "rm(",
     "library": "var_list.r",
     "varRefreshCmd": "cat(var_dic_list()) "
    }
   },
   "types_to_exclude": [
    "module",
    "function",
    "builtin_function_or_method",
    "instance",
    "_Feature"
   ],
   "window_display": false
  }
 },
 "nbformat": 4,
 "nbformat_minor": 4
}
